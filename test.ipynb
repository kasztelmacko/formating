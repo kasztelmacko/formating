{
 "cells": [
  {
   "cell_type": "code",
   "execution_count": null,
   "id": "18bb07d7",
   "metadata": {},
   "outputs": [],
   "source": [
    "import docx\n",
    "import os\n",
    "from document_formatter_config import DocumentFormatterConfig\n",
    "from document_formatting_agent import DocumentFormattingAgent\n",
    "from config import INPUT_DOCX, INPUT_DIR, STYLE_CONFIG_FILENAME, STYLE_SCHEMA_FILENAME, OUTPUT_DOCX"
   ]
  },
  {
   "cell_type": "code",
   "execution_count": 3,
   "id": "e8feb8a4",
   "metadata": {},
   "outputs": [],
   "source": [
    "doc = docx.Document(INPUT_DOCX)"
   ]
  },
  {
   "cell_type": "code",
   "execution_count": 4,
   "id": "69715744",
   "metadata": {},
   "outputs": [],
   "source": [
    "formatter_config = DocumentFormatterConfig.load_and_validate_yaml(\n",
    "    input_dir=INPUT_DIR,\n",
    "    style_filename=STYLE_CONFIG_FILENAME,\n",
    "    schema_filename=STYLE_SCHEMA_FILENAME\n",
    ")"
   ]
  },
  {
   "cell_type": "code",
   "execution_count": 5,
   "id": "17b042ec",
   "metadata": {},
   "outputs": [],
   "source": [
    "agent = DocumentFormattingAgent(doc, formatter_config)\n",
    "agent.apply_all_styles()"
   ]
  },
  {
   "cell_type": "code",
   "execution_count": 6,
   "id": "f28fa588",
   "metadata": {},
   "outputs": [],
   "source": [
    "doc.save(OUTPUT_DOCX)"
   ]
  }
 ],
 "metadata": {
  "kernelspec": {
   "display_name": "Python 3",
   "language": "python",
   "name": "python3"
  },
  "language_info": {
   "codemirror_mode": {
    "name": "ipython",
    "version": 3
   },
   "file_extension": ".py",
   "mimetype": "text/x-python",
   "name": "python",
   "nbconvert_exporter": "python",
   "pygments_lexer": "ipython3",
   "version": "3.10.7"
  }
 },
 "nbformat": 4,
 "nbformat_minor": 5
}
