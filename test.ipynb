{
 "cells": [
  {
   "cell_type": "code",
   "execution_count": 86,
   "id": "18bb07d7",
   "metadata": {},
   "outputs": [],
   "source": [
    "import docx\n",
    "import os\n",
    "import json\n",
    "from jsonschema import validate, ValidationError\n",
    "from styling_utils import _apply_properties\n",
    "from style_mapping import FONT_MAPPING, PARAGRAPH_FORMAT_MAPPING"
   ]
  },
  {
   "cell_type": "code",
   "execution_count": 87,
   "id": "61afd12e",
   "metadata": {},
   "outputs": [],
   "source": [
    "MAIN_DIR = \"C:/Users/kaszt/OneDrive/Dokumenty/format_test/\"\n",
    "INPUT_DIR = os.path.join(MAIN_DIR, \"data/input/\")\n",
    "OUTPUT_DIR = os.path.join(MAIN_DIR, \"data/output/\")"
   ]
  },
  {
   "cell_type": "code",
   "execution_count": 88,
   "id": "e8feb8a4",
   "metadata": {},
   "outputs": [],
   "source": [
    "doc = docx.Document(os.path.join(INPUT_DIR, \"test.docx\"))"
   ]
  },
  {
   "cell_type": "code",
   "execution_count": 89,
   "id": "4e9b1e3b",
   "metadata": {},
   "outputs": [],
   "source": [
    "def apply_style_from_json(style, style_json):\n",
    "    \"\"\"Apply font + paragraph_format settings from JSON to a style object.\"\"\"\n",
    "    _apply_properties(style.font, style_json.get(\"font\", {}), FONT_MAPPING)\n",
    "    _apply_properties(style.paragraph_format, style_json.get(\"paragraph_format\", {}), PARAGRAPH_FORMAT_MAPPING)"
   ]
  },
  {
   "cell_type": "code",
   "execution_count": null,
   "id": "7eb83e74",
   "metadata": {},
   "outputs": [
    {
     "name": "stdout",
     "output_type": "stream",
     "text": [
      "✅ JSON is valid!\n"
     ]
    }
   ],
   "source": [
    "with open(os.path.join(INPUT_DIR, \"style_schema.json\"), \"r\", encoding=\"utf-8\") as f:\n",
    "    schema = json.load(f)\n",
    "with open(os.path.join(INPUT_DIR, \"style.json\"), \"r\", encoding=\"utf-8\") as f:\n",
    "    style_json = json.load(f)\n",
    "try:\n",
    "    validate(instance=style_json, schema=schema)\n",
    "except ValidationError as e:\n",
    "    raise(\"❌ JSON validation error:\", e.message)\n",
    "\n",
    "for style_json in style_json[\"styles\"]:\n",
    "    style = doc.styles[style_json[\"name\"]]\n",
    "    apply_style_from_json(style, style_json)\n",
    "\n",
    "doc.save(os.path.join(OUTPUT_DIR, \"test_modified.docx\"))"
   ]
  }
 ],
 "metadata": {
  "kernelspec": {
   "display_name": "Python 3",
   "language": "python",
   "name": "python3"
  },
  "language_info": {
   "codemirror_mode": {
    "name": "ipython",
    "version": 3
   },
   "file_extension": ".py",
   "mimetype": "text/x-python",
   "name": "python",
   "nbconvert_exporter": "python",
   "pygments_lexer": "ipython3",
   "version": "3.10.7"
  }
 },
 "nbformat": 4,
 "nbformat_minor": 5
}
