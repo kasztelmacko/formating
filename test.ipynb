{
 "cells": [
  {
   "cell_type": "code",
   "execution_count": 86,
   "id": "18bb07d7",
   "metadata": {},
   "outputs": [],
   "source": [
    "import docx\n",
    "import os\n",
    "import json\n",
    "from jsonschema import validate, ValidationError\n",
    "from styling_utils import _apply_properties\n",
    "from style_mapping import FONT_MAPPING, PARAGRAPH_FORMAT_MAPPING"
   ]
  },
  {
   "cell_type": "code",
   "execution_count": 87,
   "id": "61afd12e",
   "metadata": {},
   "outputs": [],
   "source": [
    "MAIN_DIR = \"C:/Users/kaszt/OneDrive/Dokumenty/format_test/\"\n",
    "INPUT_DIR = os.path.join(MAIN_DIR, \"data/input/\")\n",
    "OUTPUT_DIR = os.path.join(MAIN_DIR, \"data/output/\")"
   ]
  },
  {
   "cell_type": "code",
   "execution_count": null,
   "id": "e8feb8a4",
   "metadata": {},
   "outputs": [],
   "source": [
    "doc = docx.Document(os.path.join(INPUT_DIR, \"test.docx\"))\n",
    "style_config_filename = \"style.json\"\n",
    "style_schema_filename = \"style_schema.json\""
   ]
  },
  {
   "cell_type": "code",
   "execution_count": null,
   "id": "ab575f6f",
   "metadata": {},
   "outputs": [],
   "source": [
    "def load_json_file(input_dir, filename):\n",
    "    path = os.path.join(input_dir, filename)\n",
    "    if not os.path.exists(path):\n",
    "        raise FileNotFoundError(f\"File not found: {path}\")\n",
    "    with open(path, \"r\", encoding=\"utf-8\") as f:\n",
    "        return json.load(f)"
   ]
  },
  {
   "cell_type": "code",
   "execution_count": null,
   "id": "9d628c0a",
   "metadata": {},
   "outputs": [],
   "source": [
    "def load_and_validate_styles(input_dir: str, style_filename: str, schema_filename: str) -> dict:\n",
    "    style_config = load_json_file(input_dir, style_filename)\n",
    "    style_schema = load_json_file(input_dir, schema_filename)\n",
    "    try:\n",
    "        validate(instance=style_config, schema=style_schema)\n",
    "    except ValidationError as e:\n",
    "        raise ValueError(f\"❌ JSON validation error: {e.message}\") from e\n",
    "\n",
    "    return style_config"
   ]
  },
  {
   "cell_type": "code",
   "execution_count": null,
   "id": "4e9b1e3b",
   "metadata": {},
   "outputs": [],
   "source": [
    "def apply_style_from_json(style, style_json):\n",
    "    \"\"\"\n",
    "    Apply font + paragraph_format settings from JSON to a style object.\n",
    "    style_json must be a single style dictionary, not the whole file.\n",
    "    \"\"\"\n",
    "    _apply_properties(style.font, style_json.get(\"font\", {}), FONT_MAPPING)\n",
    "    _apply_properties(style.paragraph_format, style_json.get(\"paragraph_format\", {}), PARAGRAPH_FORMAT_MAPPING)\n"
   ]
  },
  {
   "cell_type": "code",
   "execution_count": null,
   "id": "7eb83e74",
   "metadata": {},
   "outputs": [
    {
     "name": "stdout",
     "output_type": "stream",
     "text": [
      "✅ JSON is valid!\n"
     ]
    }
   ],
   "source": [
    "styles_config = load_and_validate_styles(INPUT_DIR, style_config_filename, style_schema_filename)\n",
    "for style_json in styles_config[\"styles\"]:\n",
    "    style_name = style_json[\"name\"]\n",
    "    style = doc.styles[style_name]\n",
    "    apply_style_from_json(style, style_json)\n",
    "\n",
    "doc.save(os.path.join(OUTPUT_DIR, \"test_modified.docx\"))"
   ]
  }
 ],
 "metadata": {
  "kernelspec": {
   "display_name": "Python 3",
   "language": "python",
   "name": "python3"
  },
  "language_info": {
   "codemirror_mode": {
    "name": "ipython",
    "version": 3
   },
   "file_extension": ".py",
   "mimetype": "text/x-python",
   "name": "python",
   "nbconvert_exporter": "python",
   "pygments_lexer": "ipython3",
   "version": "3.10.7"
  }
 },
 "nbformat": 4,
 "nbformat_minor": 5
}
