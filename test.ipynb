{
 "cells": [
  {
   "cell_type": "code",
   "execution_count": 1,
   "id": "18bb07d7",
   "metadata": {},
   "outputs": [],
   "source": [
    "import docx\n",
    "import os\n",
    "import json\n",
    "import yaml\n",
    "from jsonschema import validate, ValidationError\n",
    "from styling_utils import _apply_properties, _clean_paragraph, _remove_empty_paragraph, _adjust_bullet_character\n",
    "from style_mapping import FONT_MAPPING, PARAGRAPH_FORMAT_MAPPING"
   ]
  },
  {
   "cell_type": "code",
   "execution_count": 2,
   "id": "61afd12e",
   "metadata": {},
   "outputs": [],
   "source": [
    "MAIN_DIR = \"C:/Users/kaszt/OneDrive/Dokumenty/format_test/\"\n",
    "INPUT_DIR = os.path.join(MAIN_DIR, \"data/input/\")\n",
    "OUTPUT_DIR = os.path.join(MAIN_DIR, \"data/output/\")"
   ]
  },
  {
   "cell_type": "code",
   "execution_count": 3,
   "id": "e8feb8a4",
   "metadata": {},
   "outputs": [],
   "source": [
    "doc = docx.Document(os.path.join(INPUT_DIR, \"test_yaml.docx\"))\n",
    "style_config_filename_json = \"style.json\"\n",
    "style_schema_filename_json = \"style_schema.json\"\n",
    "style_config_filename_yaml = \"style_config.yaml\"\n",
    "style_schema_filename_yaml = \"style_config_schema.yaml\""
   ]
  },
  {
   "cell_type": "code",
   "execution_count": 4,
   "id": "ab575f6f",
   "metadata": {},
   "outputs": [],
   "source": [
    "def load_json_file(input_dir, filename):\n",
    "    path = os.path.join(input_dir, filename)\n",
    "    if not os.path.exists(path):\n",
    "        raise FileNotFoundError(f\"File not found: {path}\")\n",
    "    with open(path, \"r\", encoding=\"utf-8\") as f:\n",
    "        return json.load(f)\n",
    "    \n",
    "def load_yaml_file(input_dir, filename):\n",
    "    path = os.path.join(input_dir, filename)\n",
    "    if not os.path.exists(path):\n",
    "        raise FileNotFoundError(f\"File not found: {path}\")\n",
    "    with open(path, \"r\", encoding=\"utf-8\") as f:\n",
    "        return yaml.safe_load(f)"
   ]
  },
  {
   "cell_type": "code",
   "execution_count": 5,
   "id": "9d628c0a",
   "metadata": {},
   "outputs": [],
   "source": [
    "def load_and_validate_styles_json(input_dir: str, style_filename: str, schema_filename: str) -> dict:\n",
    "    style_config = load_json_file(input_dir, style_filename)\n",
    "    style_schema = load_json_file(input_dir, schema_filename)\n",
    "    try:\n",
    "        validate(instance=style_config, schema=style_schema)\n",
    "    except ValidationError as e:\n",
    "        raise ValueError(f\"❌ JSON validation error: {e.message}\") from e\n",
    "\n",
    "    return style_config\n",
    "\n",
    "def load_and_validate_styles_yaml(input_dir: str, style_filename: str, schema_filename: str) -> dict:\n",
    "    style_config = load_yaml_file(input_dir, style_filename)\n",
    "    style_schema = load_yaml_file(input_dir, schema_filename)\n",
    "    try:\n",
    "        validate(instance=style_config, schema=style_schema)\n",
    "    except ValidationError as e:\n",
    "        raise ValueError(f\"❌ YAML validation error: {e.message}\") from e\n",
    "\n",
    "    return style_config"
   ]
  },
  {
   "cell_type": "code",
   "execution_count": 6,
   "id": "4e9b1e3b",
   "metadata": {},
   "outputs": [],
   "source": [
    "def apply_style_properties(style_obj, style_definition):\n",
    "    \"\"\"\n",
    "    Apply font and paragraph formatting from a single style definition\n",
    "    to a docx style object.\n",
    "    \"\"\"\n",
    "    _apply_properties(style_obj.font, style_definition.get(\"font\", {}), FONT_MAPPING)\n",
    "    _apply_properties(style_obj.paragraph_format, style_definition.get(\"paragraph_format\", {}), PARAGRAPH_FORMAT_MAPPING)\n",
    "\n",
    "\n",
    "def clean_paragraph(paragraph):\n",
    "    \"\"\"Perform cleanup on a single paragraph: trim spaces and remove if empty.\"\"\"\n",
    "    _clean_paragraph(paragraph, trim_spaces=True)\n",
    "    _remove_empty_paragraph(paragraph)"
   ]
  },
  {
   "cell_type": "code",
   "execution_count": 7,
   "id": "888427d3",
   "metadata": {},
   "outputs": [],
   "source": [
    "def apply_style_group(doc, style_group: dict):\n",
    "    \"\"\"\n",
    "    Apply a group of styles from a configuration dictionary to the docx Document.\n",
    "\n",
    "    style_group: dict\n",
    "        Keys are style names, values are style definitions (font + paragraph_format + based_on)\n",
    "    \"\"\"\n",
    "    for style_name, style_def in style_group.items():\n",
    "        style_obj = doc.styles[style_name]\n",
    "        if not style_obj or not isinstance(style_def, dict):\n",
    "            continue\n",
    "\n",
    "        if style_def.get(\"based_on\"):\n",
    "            style_obj.base_style = doc.styles[style_def[\"based_on\"]]\n",
    "\n",
    "        apply_style_properties(style_obj, style_def)\n",
    "\n",
    "def apply_all_document_styles(doc, styles_config):\n",
    "    \"\"\"\n",
    "    Apply all styles from the loaded configuration to the docx Document,\n",
    "    including paragraph styles, chapter/section styles, bullet adjustments,\n",
    "    and paragraph cleanup.\n",
    "    \"\"\"\n",
    "\n",
    "    paragraph_styles = styles_config[\"document_formatter_config\"].get(\"paragraph_styles\", {})\n",
    "    apply_style_group(doc, paragraph_styles)\n",
    "\n",
    "    chapter_section_rules = styles_config[\"document_formatter_config\"].get(\"chapter_and_section_rules\", {})\n",
    "    apply_style_group(doc, chapter_section_rules)\n",
    "\n",
    "    list_rules = styles_config[\"document_formatter_config\"].get(\"list_rules\", {})\n",
    "    _adjust_bullet_character(doc, list_rules)\n",
    "\n",
    "    for paragraph in doc.paragraphs[:]:\n",
    "        clean_paragraph(paragraph)"
   ]
  },
  {
   "cell_type": "code",
   "execution_count": 8,
   "id": "31d9c342",
   "metadata": {},
   "outputs": [],
   "source": [
    "styles_config = load_and_validate_styles_yaml(input_dir=INPUT_DIR, style_filename=style_config_filename_yaml, schema_filename=style_schema_filename_yaml)\n",
    "\n",
    "apply_all_document_styles(doc, styles_config)"
   ]
  },
  {
   "cell_type": "code",
   "execution_count": 9,
   "id": "f28fa588",
   "metadata": {},
   "outputs": [],
   "source": [
    "doc.save(os.path.join(OUTPUT_DIR, \"test_modified.docx\"))"
   ]
  }
 ],
 "metadata": {
  "kernelspec": {
   "display_name": "Python 3",
   "language": "python",
   "name": "python3"
  },
  "language_info": {
   "codemirror_mode": {
    "name": "ipython",
    "version": 3
   },
   "file_extension": ".py",
   "mimetype": "text/x-python",
   "name": "python",
   "nbconvert_exporter": "python",
   "pygments_lexer": "ipython3",
   "version": "3.10.7"
  }
 },
 "nbformat": 4,
 "nbformat_minor": 5
}
