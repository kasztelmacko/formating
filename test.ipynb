{
 "cells": [
  {
   "cell_type": "code",
   "execution_count": 1,
   "id": "18bb07d7",
   "metadata": {},
   "outputs": [],
   "source": [
    "import docx\n",
    "import os\n",
    "from document_formatter_config import DocumentFormatterConfig\n",
    "from document_formatting_agent import DocumentFormattingAgent"
   ]
  },
  {
   "cell_type": "code",
   "execution_count": 2,
   "id": "61afd12e",
   "metadata": {},
   "outputs": [],
   "source": [
    "MAIN_DIR = \"C:/Users/kaszt/OneDrive/Dokumenty/format_test/\"\n",
    "INPUT_DIR = os.path.join(MAIN_DIR, \"data/input/\")\n",
    "OUTPUT_DIR = os.path.join(MAIN_DIR, \"data/output/\")\n",
    "INPUT_DOCX = os.path.join(INPUT_DIR, \"test_yaml.docx\")\n",
    "OUTPUT_DOCX = os.path.join(OUTPUT_DIR, \"test_modified.docx\")\n",
    "\n",
    "STYLE_CONFIG_FILENAME = \"style_config.yaml\"\n",
    "STYLE_SCHEMA_FILENAME = \"style_config_schema.yaml\""
   ]
  },
  {
   "cell_type": "code",
   "execution_count": 3,
   "id": "e8feb8a4",
   "metadata": {},
   "outputs": [],
   "source": [
    "doc = docx.Document(INPUT_DOCX)"
   ]
  },
  {
   "cell_type": "code",
   "execution_count": 4,
   "id": "69715744",
   "metadata": {},
   "outputs": [],
   "source": [
    "formatter_config = DocumentFormatterConfig.load_and_validate_yaml(\n",
    "    input_dir=INPUT_DIR,\n",
    "    style_filename=STYLE_CONFIG_FILENAME,\n",
    "    schema_filename=STYLE_SCHEMA_FILENAME\n",
    ")"
   ]
  },
  {
   "cell_type": "code",
   "execution_count": 5,
   "id": "17b042ec",
   "metadata": {},
   "outputs": [],
   "source": [
    "agent = DocumentFormattingAgent(doc, formatter_config)\n",
    "agent.apply_all_styles()"
   ]
  },
  {
   "cell_type": "code",
   "execution_count": 6,
   "id": "f28fa588",
   "metadata": {},
   "outputs": [],
   "source": [
    "doc.save(OUTPUT_DOCX)"
   ]
  }
 ],
 "metadata": {
  "kernelspec": {
   "display_name": "Python 3",
   "language": "python",
   "name": "python3"
  },
  "language_info": {
   "codemirror_mode": {
    "name": "ipython",
    "version": 3
   },
   "file_extension": ".py",
   "mimetype": "text/x-python",
   "name": "python",
   "nbconvert_exporter": "python",
   "pygments_lexer": "ipython3",
   "version": "3.10.7"
  }
 },
 "nbformat": 4,
 "nbformat_minor": 5
}
